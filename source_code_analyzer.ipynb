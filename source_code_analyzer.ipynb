{
 "cells": [
  {
   "cell_type": "code",
   "execution_count": 143,
   "metadata": {},
   "outputs": [],
   "source": [
    "import collections\n",
    "import glob\n",
    "import re"
   ]
  },
  {
   "cell_type": "code",
   "execution_count": 144,
   "metadata": {},
   "outputs": [],
   "source": [
    "class SourceCode:\n",
    "    def __init__(self, source_code, comment_prefix='//'):\n",
    "        self.lines = []\n",
    "        self.comment_prefix = comment_prefix\n",
    "        self.format_lines(source_code)\n",
    "\n",
    "    def format_lines(self, lines):\n",
    "        number = 0\n",
    "        for line in lines:\n",
    "            if self.check_comment(line):\n",
    "                continue\n",
    "            number += 1\n",
    "            code = {}\n",
    "            code['number'] = number\n",
    "            code['indent'] = self.count_spaces(line, left=True)\n",
    "\n",
    "            cleaned = self.clean_code(line)\n",
    "            code['code'] = cleaned\n",
    "\n",
    "            chars = cleaned.replace(' ', '')\n",
    "            code['letters'] = self.parse_chars(chars, '[^a-zA-Z]+')\n",
    "            code['marks'] = self.parse_chars(chars, '[a-zA-Z]+')\n",
    "\n",
    "            self.lines.append(code)\n",
    "\n",
    "    def check_comment(self, code):\n",
    "        strip = code.lstrip()\n",
    "        return strip.find(self.comment_prefix) == 0\n",
    "    \n",
    "    def count_spaces(self, code, left=False, right=False):\n",
    "        total = code.count(' ')\n",
    "        strip = ''\n",
    "        if left:\n",
    "            strip = code.lstrip()\n",
    "        if right:\n",
    "            strip = code.rstrip()\n",
    "        return total - strip.count(' ')\n",
    "    \n",
    "    def clean_code(self, code):\n",
    "        return code.strip('\\n')\n",
    "    \n",
    "    def parse_chars(self, code, pattern):\n",
    "        chars = re.sub(pattern, '', code)\n",
    "        return [char for char in chars]\n",
    "    \n",
    "    def get_frequencies(self):\n",
    "        letters = []\n",
    "        marks = []\n",
    "        for line in self.lines:\n",
    "            letters += line['letters']\n",
    "            marks += line['marks']\n",
    "        return collections.Counter(letters), collections.Counter(marks)"
   ]
  },
  {
   "cell_type": "code",
   "execution_count": 163,
   "metadata": {},
   "outputs": [],
   "source": [
    "def frequency_percentages(counter):\n",
    "    total = sum([counter[k] for k in counter])\n",
    "    return [(k, round((counter[k] / total) * 100.0, 2)) for k in counter]"
   ]
  },
  {
   "cell_type": "code",
   "execution_count": 165,
   "metadata": {},
   "outputs": [
    {
     "name": "stdout",
     "output_type": "stream",
     "text": [
      "Rust\n",
      "\n",
      "File count: 169\n",
      "\n",
      "Most common Rust letters\n",
      "[('e', 11.96), ('x', 2.24), ('t', 5.15), ('r', 3.28), ('n', 2.54), ('c', 7.66), ('a', 8.78), ('g', 0.65), ('u', 2.61), ('s', 3.78), ('d', 7.26), ('v', 0.36), ('p', 1.77), ('h', 0.87), ('P', 0.16), ('f', 7.73), ('m', 1.28), ('i', 2.56), ('l', 2.44), ('T', 3.18), ('A', 3.46), ('R', 0.15), ('G', 2.63), ('E', 0.4), ('w', 0.55), ('o', 2.15), ('H', 0.03), ('O', 0.1), ('S', 0.33), ('C', 3.46), ('X', 0.04), ('N', 0.11), ('b', 7.0), ('y', 0.69), ('k', 0.39), ('B', 0.42), ('W', 0.03), ('V', 0.08), ('K', 0.06), ('z', 0.22), ('U', 0.02), ('D', 0.34), ('I', 0.16), ('M', 0.13), ('L', 0.09), ('q', 0.2), ('F', 0.44), ('j', 0.06), ('Y', 0.02), ('J', 0.0), ('Z', 0.01), ('Q', 0.01)]\n",
      "\n",
      "Most common Rust marks\n",
      "[(';', 1.51), (':', 1.79), ('(', 1.99), (')', 1.99), ('{', 0.77), ('=', 1.12), ('\"', 0.86), ('.', 1.5), ('&', 0.54), ('/', 0.07), ('_', 2.0), ('8', 7.35), ('6', 7.23), ('4', 7.29), (',', 4.58), ('}', 0.77), ('[', 0.74), (']', 0.74), ('-', 0.9), ('>', 0.54), ('<', 0.36), ('2', 7.81), ('5', 7.21), ('0', 9.33), ('9', 6.91), ('!', 0.27), ('|', 0.15), ('3', 7.42), ('1', 8.17), ('#', 0.11), ('*', 0.22), ('\\\\', 0.18), (\"'\", 0.1), ('+', 0.24), ('^', 0.2), ('7', 6.92), ('$', 0.08), ('%', 0.01), ('`', 0.01), ('\\t', 0.0), ('~', 0.0), ('\\u200e', 0.0), ('?', 0.01), ('̈', 0.0), ('é', 0.0), ('⏳', 0.0), ('Ѡ', 0.0), ('😉', 0.0), ('攻', 0.0), ('@', 0.0), ('ü', 0.0), ('ä', 0.0)]\n"
     ]
    }
   ],
   "source": [
    "most_common_rust_letters = collections.Counter()\n",
    "most_common_rust_marks = collections.Counter()\n",
    "\n",
    "files = glob.glob('**/*.rs', recursive=True)\n",
    "\n",
    "for filename in files:\n",
    "    with open(filename, mode='rt', encoding=\"utf-8\") as file:\n",
    "        # print(file.name)\n",
    "        lines = file.readlines()\n",
    "        source_code = SourceCode(lines)\n",
    "        frequencies = source_code.get_frequencies()\n",
    "        most_common_rust_letters += frequencies[0]\n",
    "        most_common_rust_marks += frequencies[1]\n",
    "\n",
    "print('Rust')\n",
    "print('\\nFile count:', len(files))\n",
    "\n",
    "print('\\nMost common Rust letters')\n",
    "print(frequency_percentages(most_common_rust_letters))\n",
    "print('\\nMost common Rust marks')\n",
    "print(frequency_percentages(most_common_rust_marks))"
   ]
  },
  {
   "cell_type": "code",
   "execution_count": null,
   "metadata": {},
   "outputs": [],
   "source": []
  }
 ],
 "metadata": {
  "kernelspec": {
   "display_name": "Python 3",
   "language": "python",
   "name": "python3"
  },
  "language_info": {
   "codemirror_mode": {
    "name": "ipython",
    "version": 3
   },
   "file_extension": ".py",
   "mimetype": "text/x-python",
   "name": "python",
   "nbconvert_exporter": "python",
   "pygments_lexer": "ipython3",
   "version": "3.7.6"
  }
 },
 "nbformat": 4,
 "nbformat_minor": 4
}
